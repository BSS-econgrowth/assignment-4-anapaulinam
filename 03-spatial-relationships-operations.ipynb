{
 "cells": [
  {
   "cell_type": "markdown",
   "metadata": {},
   "source": [
    "# Spatial relationships and operations"
   ]
  },
  {
   "cell_type": "code",
   "execution_count": 1,
   "metadata": {},
   "outputs": [],
   "source": [
    "%matplotlib inline\n",
    "\n",
    "import pandas as pd\n",
    "import geopandas"
   ]
  },
  {
   "cell_type": "code",
   "execution_count": 2,
   "metadata": {},
   "outputs": [],
   "source": [
    "countries = geopandas.read_file(\"zip://./data/ne_110m_admin_0_countries.zip\")\n",
    "cities = geopandas.read_file(\"zip://./data/ne_110m_populated_places.zip\")\n",
    "rivers = geopandas.read_file(\"zip://./data/ne_50m_rivers_lake_centerlines.zip\")"
   ]
  },
  {
   "cell_type": "markdown",
   "metadata": {},
   "source": [
    "## Spatial relationships\n",
    "\n",
    "An important aspect of geospatial data is that we can look at *spatial relationships*: how two spatial objects relate to each other (whether they overlap, intersect, contain, .. one another).\n",
    "\n",
    "The topological, set-theoretic relationships in GIS are typically based on the DE-9IM model. See https://en.wikipedia.org/wiki/Spatial_relation for more information.\n",
    "\n",
    "![](img/TopologicSpatialRelarions2.png)\n",
    "(Image by [Krauss, CC BY-SA 3.0](https://en.wikipedia.org/wiki/Spatial_relation#/media/File:TopologicSpatialRelarions2.png))"
   ]
  },
  {
   "cell_type": "markdown",
   "metadata": {},
   "source": [
    "### Relationships between individual objects"
   ]
  },
  {
   "cell_type": "markdown",
   "metadata": {},
   "source": [
    "Let's first create some small toy spatial objects:\n",
    "\n",
    "A polygon <small>(note: we use `.squeeze()` here to to extract the scalar geometry object from the GeoSeries of length 1)</small>:"
   ]
  },
  {
   "cell_type": "code",
   "execution_count": 3,
   "metadata": {},
   "outputs": [],
   "source": [
    "belgium = countries.loc[countries['name'] == 'Belgium', 'geometry'].squeeze()"
   ]
  },
  {
   "cell_type": "markdown",
   "metadata": {},
   "source": [
    "Two points:"
   ]
  },
  {
   "cell_type": "code",
   "execution_count": 4,
   "metadata": {},
   "outputs": [],
   "source": [
    "paris = cities.loc[cities['name'] == 'Paris', 'geometry'].squeeze()\n",
    "brussels = cities.loc[cities['name'] == 'Brussels', 'geometry'].squeeze()"
   ]
  },
  {
   "cell_type": "markdown",
   "metadata": {},
   "source": [
    "And a linestring:"
   ]
  },
  {
   "cell_type": "code",
   "execution_count": 5,
   "metadata": {},
   "outputs": [],
   "source": [
    "from shapely.geometry import LineString\n",
    "line = LineString([paris, brussels])"
   ]
  },
  {
   "cell_type": "markdown",
   "metadata": {},
   "source": [
    "Let's visualize those 4 geometry objects together (I only put them in a GeoSeries to easily display them together with the geopandas `.plot()` method):"
   ]
  },
  {
   "cell_type": "code",
   "execution_count": 6,
   "metadata": {},
   "outputs": [
    {
     "data": {
      "text/plain": [
       "<matplotlib.axes._subplots.AxesSubplot at 0x7f2ce5b6d7d0>"
      ]
     },
     "execution_count": 6,
     "metadata": {},
     "output_type": "execute_result"
    },
    {
     "data": {
      "image/png": "[encoded data removed]",
      "text/plain": [
       "<Figure size 432x288 with 1 Axes>"
      ]
     },
     "metadata": {
      "needs_background": "light"
     },
     "output_type": "display_data"
    }
   ],
   "source": [
    "geopandas.GeoSeries([belgium, paris, brussels, line]).plot(cmap='tab10')"
   ]
  },
  {
   "cell_type": "markdown",
   "metadata": {},
   "source": [
    "You can recognize the abstract shape of Belgium.\n",
    "\n",
    "Brussels, the capital of Belgium, is thus located within Belgium. This is a spatial relationship, and we can test this using the individual shapely geometry objects as follow:"
   ]
  },
  {
   "cell_type": "code",
   "execution_count": 7,
   "metadata": {},
   "outputs": [
    {
     "data": {
      "text/plain": [
       "True"
      ]
     },
     "execution_count": 7,
     "metadata": {},
     "output_type": "execute_result"
    }
   ],
   "source": [
    "brussels.within(belgium)"
   ]
  },
  {
   "cell_type": "markdown",
   "metadata": {},
   "source": [
    "And using the reverse, Belgium contains Brussels:"
   ]
  },
  {
   "cell_type": "code",
   "execution_count": 8,
   "metadata": {},
   "outputs": [
    {
     "data": {
      "text/plain": [
       "True"
      ]
     },
     "execution_count": 8,
     "metadata": {},
     "output_type": "execute_result"
    }
   ],
   "source": [
    "belgium.contains(brussels)"
   ]
  },
  {
   "cell_type": "markdown",
   "metadata": {},
   "source": [
    "On the other hand, Paris is not located in Belgium:"
   ]
  },
  {
   "cell_type": "code",
   "execution_count": 9,
   "metadata": {},
   "outputs": [
    {
     "data": {
      "text/plain": [
       "False"
      ]
     },
     "execution_count": 9,
     "metadata": {},
     "output_type": "execute_result"
    }
   ],
   "source": [
    "belgium.contains(paris)"
   ]
  },
  {
   "cell_type": "code",
   "execution_count": 10,
   "metadata": {},
   "outputs": [
    {
     "data": {
      "text/plain": [
       "False"
      ]
     },
     "execution_count": 10,
     "metadata": {},
     "output_type": "execute_result"
    }
   ],
   "source": [
    "paris.within(belgium)"
   ]
  },
  {
   "cell_type": "markdown",
   "metadata": {},
   "source": [
    "The straight line we draw from Paris to Brussels is not fully located within Belgium, but it does intersect with it:"
   ]
  },
  {
   "cell_type": "code",
   "execution_count": 11,
   "metadata": {},
   "outputs": [
    {
     "data": {
      "text/plain": [
       "False"
      ]
     },
     "execution_count": 11,
     "metadata": {},
     "output_type": "execute_result"
    }
   ],
   "source": [
    "belgium.contains(line)"
   ]
  },
  {
   "cell_type": "code",
   "execution_count": 12,
   "metadata": {},
   "outputs": [
    {
     "data": {
      "text/plain": [
       "True"
      ]
     },
     "execution_count": 12,
     "metadata": {},
     "output_type": "execute_result"
    }
   ],
   "source": [
    "line.intersects(belgium)"
   ]
  },
  {
   "cell_type": "markdown",
   "metadata": {},
   "source": [
    "### Spatial relationships with GeoDataFrames\n",
    "\n",
    "The same methods that are available on individual `shapely` geometries as we have seen above, are also available as methods on `GeoSeries` / `GeoDataFrame` objects.\n",
    "\n",
    "For example, if we call the `contains` method on the world dataset with the `paris` point, it will do this spatial check for each country in the `world` dataframe:"
   ]
  },
  {
   "cell_type": "code",
   "execution_count": 13,
   "metadata": {},
   "outputs": [
    {
     "data": {
      "text/plain": [
       "0      False\n",
       "1      False\n",
       "2      False\n",
       "3      False\n",
       "4      False\n",
       "       ...  \n",
       "172    False\n",
       "173    False\n",
       "174    False\n",
       "175    False\n",
       "176    False\n",
       "Length: 177, dtype: bool"
      ]
     },
     "execution_count": 13,
     "metadata": {},
     "output_type": "execute_result"
    }
   ],
   "source": [
    "countries.contains(paris)"
   ]
  },
  {
   "cell_type": "markdown",
   "metadata": {},
   "source": [
    "Because the above gives us a boolean result, we can use that to filter the dataframe:"
   ]
  },
  {
   "cell_type": "code",
   "execution_count": 14,
   "metadata": {},
   "outputs": [
    {
     "data": {
      "text/html": [
       "<div>\n",
       "<style scoped>\n",
       "    .dataframe tbody tr th:only-of-type {\n",
       "        vertical-align: middle;\n",
       "    }\n",
       "\n",
       "    .dataframe tbody tr th {\n",
       "        vertical-align: top;\n",
       "    }\n",
       "\n",
       "    .dataframe thead th {\n",
       "        text-align: right;\n",
       "    }\n",
       "</style>\n",
       "<table border=\"1\" class=\"dataframe\">\n",
       "  <thead>\n",
       "    <tr style=\"text-align: right;\">\n",
       "      <th></th>\n",
       "      <th>iso_a3</th>\n",
       "      <th>name</th>\n",
       "      <th>continent</th>\n",
       "      <th>pop_est</th>\n",
       "      <th>gdp_md_est</th>\n",
       "      <th>geometry</th>\n",
       "    </tr>\n",
       "  </thead>\n",
       "  <tbody>\n",
       "    <tr>\n",
       "      <th>55</th>\n",
       "      <td>FRA</td>\n",
       "      <td>France</td>\n",
       "      <td>Europe</td>\n",
       "      <td>67106161.0</td>\n",
       "      <td>2699000.0</td>\n",
       "      <td>MULTIPOLYGON (((2.51357 51.14851, 2.65842 50.7...</td>\n",
       "    </tr>\n",
       "  </tbody>\n",
       "</table>\n",
       "</div>"
      ],
      "text/plain": [
       "   iso_a3    name continent     pop_est  gdp_md_est  \\\n",
       "55    FRA  France    Europe  67106161.0   2699000.0   \n",
       "\n",
       "                                             geometry  \n",
       "55  MULTIPOLYGON (((2.51357 51.14851, 2.65842 50.7...  "
      ]
     },
     "execution_count": 14,
     "metadata": {},
     "output_type": "execute_result"
    }
   ],
   "source": [
    "countries[countries.contains(paris)]"
   ]
  },
  {
   "cell_type": "markdown",
   "metadata": {},
   "source": [
    "And indeed, France is the only country in the world in which Paris is located."
   ]
  },
  {
   "cell_type": "markdown",
   "metadata": {},
   "source": [
    "Another example, extracting the linestring of the Amazon river in South America, we can query through which countries the river flows:"
   ]
  },
  {
   "cell_type": "code",
   "execution_count": 15,
   "metadata": {},
   "outputs": [],
   "source": [
    "amazon = rivers[rivers['name'] == 'Amazonas'].geometry.squeeze()"
   ]
  },
  {
   "cell_type": "code",
   "execution_count": 16,
   "metadata": {},
   "outputs": [
    {
     "data": {
      "text/html": [
       "<div>\n",
       "<style scoped>\n",
       "    .dataframe tbody tr th:only-of-type {\n",
       "        vertical-align: middle;\n",
       "    }\n",
       "\n",
       "    .dataframe tbody tr th {\n",
       "        vertical-align: top;\n",
       "    }\n",
       "\n",
       "    .dataframe thead th {\n",
       "        text-align: right;\n",
       "    }\n",
       "</style>\n",
       "<table border=\"1\" class=\"dataframe\">\n",
       "  <thead>\n",
       "    <tr style=\"text-align: right;\">\n",
       "      <th></th>\n",
       "      <th>iso_a3</th>\n",
       "      <th>name</th>\n",
       "      <th>continent</th>\n",
       "      <th>pop_est</th>\n",
       "      <th>gdp_md_est</th>\n",
       "      <th>geometry</th>\n",
       "    </tr>\n",
       "  </thead>\n",
       "  <tbody>\n",
       "    <tr>\n",
       "      <th>22</th>\n",
       "      <td>BRA</td>\n",
       "      <td>Brazil</td>\n",
       "      <td>South America</td>\n",
       "      <td>207353391.0</td>\n",
       "      <td>3081000.0</td>\n",
       "      <td>POLYGON ((-57.62513 -30.21629, -56.29090 -28.8...</td>\n",
       "    </tr>\n",
       "    <tr>\n",
       "      <th>35</th>\n",
       "      <td>COL</td>\n",
       "      <td>Colombia</td>\n",
       "      <td>South America</td>\n",
       "      <td>47698524.0</td>\n",
       "      <td>688000.0</td>\n",
       "      <td>POLYGON ((-66.87633 1.25336, -67.06505 1.13011...</td>\n",
       "    </tr>\n",
       "    <tr>\n",
       "      <th>124</th>\n",
       "      <td>PER</td>\n",
       "      <td>Peru</td>\n",
       "      <td>South America</td>\n",
       "      <td>31036656.0</td>\n",
       "      <td>410400.0</td>\n",
       "      <td>POLYGON ((-69.52968 -10.95173, -68.66508 -12.5...</td>\n",
       "    </tr>\n",
       "  </tbody>\n",
       "</table>\n",
       "</div>"
      ],
      "text/plain": [
       "    iso_a3      name      continent      pop_est  gdp_md_est  \\\n",
       "22     BRA    Brazil  South America  207353391.0   3081000.0   \n",
       "35     COL  Colombia  South America   47698524.0    688000.0   \n",
       "124    PER      Peru  South America   31036656.0    410400.0   \n",
       "\n",
       "                                              geometry  \n",
       "22   POLYGON ((-57.62513 -30.21629, -56.29090 -28.8...  \n",
       "35   POLYGON ((-66.87633 1.25336, -67.06505 1.13011...  \n",
       "124  POLYGON ((-69.52968 -10.95173, -68.66508 -12.5...  "
      ]
     },
     "execution_count": 16,
     "metadata": {},
     "output_type": "execute_result"
    }
   ],
   "source": [
    "countries[countries.crosses(amazon)]  # or .intersects"
   ]
  },
  {
   "cell_type": "markdown",
   "metadata": {},
   "source": [
    "<div class=\"alert alert-info\" style=\"font-size:120%\">\n",
    "\n",
    "**REFERENCE**:\n",
    "\n",
    "Overview of the different functions to check spatial relationships (*spatial predicate functions*):\n",
    "\n",
    "* `equals`\n",
    "* `contains`\n",
    "* `crosses`\n",
    "* `disjoint`\n",
    "* `intersects`\n",
    "* `overlaps`\n",
    "* `touches`\n",
    "* `within`\n",
    "* `covers`\n",
    "\n",
    "\n",
    "See https://shapely.readthedocs.io/en/stable/manual.html#predicates-and-relationships for an overview of those methods.\n",
    "\n",
    "See https://en.wikipedia.org/wiki/DE-9IM for all details on the semantics of those operations.\n",
    "\n",
    "</div>"
   ]
  },
  {
   "cell_type": "markdown",
   "metadata": {},
   "source": [
    "## Let's practice!\n",
    "\n",
    "We will again use the Paris datasets to do some exercises. Let's start importing them again:"
   ]
  },
  {
   "cell_type": "code",
   "execution_count": 17,
   "metadata": {},
   "outputs": [
    {
     "name": "stderr",
     "output_type": "stream",
     "text": [
      "/srv/conda/envs/notebook/lib/python3.7/site-packages/pyproj/crs.py:77: FutureWarning: '+init=<authority>:<code>' syntax is deprecated. '<authority>:<code>' is the preferred initialization method.\n",
      "  return _prepare_from_string(\" \".join(pjargs))\n",
      "/srv/conda/envs/notebook/lib/python3.7/site-packages/pyproj/crs.py:77: FutureWarning: '+init=<authority>:<code>' syntax is deprecated. '<authority>:<code>' is the preferred initialization method.\n",
      "  return _prepare_from_string(\" \".join(pjargs))\n"
     ]
    }
   ],
   "source": [
    "districts = geopandas.read_file(\"data/paris_districts.geojson\").to_crs(epsg=2154)\n",
    "stations = geopandas.read_file(\"data/paris_bike_stations.geojson\").to_crs(epsg=2154)"
   ]
  },
  {
   "cell_type": "markdown",
   "metadata": {},
   "source": [
    "<div class=\"alert alert-success\">\n",
    "\n",
    "**EXERCISE: The Eiffel Tower**\n",
    "\n",
    "The Eiffel Tower is an iron lattice tower built in the 19th century, and is probably the most iconic view of Paris.\n",
    "\n",
    "The location of the Eiffel Tower is: x of 648237.3 and y of 6862271.9.\n",
    "\n",
    "* Create a Shapely point object with the coordinates of the Eiffel Tower and assign it to a variable called `eiffel_tower`. Print the result.\n",
    "* Check if the Eiffel Tower is located within the Montparnasse district (provided).\n",
    "* Check if the Montparnasse district contains the bike station location.\n",
    "* Calculate the distance between the Eiffel Tower and the bike station (note: in this case, the distance is returned in meters).\n",
    "\n",
    "\n",
    "<details><summary>Hints</summary>\n",
    "\n",
    "* The `Point` class is available in the `shapely.geometry` submodule\n",
    "* Creating a point can be done by passing the x and y coordinates to the `Point()` constructor.\n",
    "* The `within()` method checks if the object is located within the passed geometry (used as `geometry1.within(geometry2)`).\n",
    "* The `contains()` method checks if the object contains the passed geometry (used as `geometry1.contains(geometry2)`).\n",
    "* To calculate the distance between two geometries, the `distance()` method of one of the geometries can be used.\n",
    "\n",
    "</details>\n",
    "\n",
    "</div>"
   ]
  },
  {
   "cell_type": "code",
   "execution_count": 18,
   "metadata": {},
   "outputs": [],
   "source": [
    "# Import the Point geometry\n",
    "from shapely.geometry import Point"
   ]
  },
  {
   "cell_type": "code",
   "execution_count": 19,
   "metadata": {
    "clear_cell": true
   },
   "outputs": [],
   "source": [
    "# %load _solved/solutions/03-spatial-relationships-operations1.py"
   ]
  },
  {
   "cell_type": "code",
   "execution_count": 20,
   "metadata": {
    "clear_cell": true
   },
   "outputs": [],
   "source": [
    "# %load _solved/solutions/03-spatial-relationships-operations2.py"
   ]
  },
  {
   "cell_type": "code",
   "execution_count": 21,
   "metadata": {},
   "outputs": [],
   "source": [
    "# Accessing the Montparnasse geometry (Polygon)\n",
    "district_montparnasse = districts.loc[52, 'geometry']\n",
    "bike_station = stations.loc[293, 'geometry']"
   ]
  },
  {
   "cell_type": "code",
   "execution_count": 22,
   "metadata": {
    "clear_cell": true
   },
   "outputs": [],
   "source": [
    "# %load _solved/solutions/03-spatial-relationships-operations3.py"
   ]
  },
  {
   "cell_type": "code",
   "execution_count": 23,
   "metadata": {
    "clear_cell": true
   },
   "outputs": [],
   "source": [
    "# %load _solved/solutions/03-spatial-relationships-operations4.py"
   ]
  },
  {
   "cell_type": "code",
   "execution_count": 24,
   "metadata": {
    "clear_cell": true
   },
   "outputs": [],
   "source": [
    "# %load _solved/solutions/03-spatial-relationships-operations5.py"
   ]
  },
  {
   "cell_type": "markdown",
   "metadata": {},
   "source": [
    "<div class=\"alert alert-success\">\n",
    "\n",
    "**EXERCISE: In which district in the Eiffel Tower located?**\n",
    "\n",
    "In previous exercise, we constructed a `Point` geometry for its location, and we checked that it was not located in the Montparnasse district. Let's now determine in which of the districts of Paris it *is* located.\n",
    "\n",
    "* Create a boolean mask (or filter) indicating whether each district contains the Eiffel Tower or not. Call the result `mask`.\n",
    "* Filter the `districts` dataframe with the boolean mask and print the result.\n",
    "\n",
    "\n",
    "<details><summary>Hints</summary>\n",
    "\n",
    "* To check for each polygon in the districts dataset if it contains a single point, we can use the `contains()` method of the `districts` GeoDataFrame.\n",
    "* Filtering the rows of a DataFrame based on a condition can be done by passing the boolean mask into `df[..]`.\n",
    "\n",
    "</details>\n",
    "\n",
    "</div>"
   ]
  },
  {
   "cell_type": "code",
   "execution_count": 25,
   "metadata": {},
   "outputs": [],
   "source": [
    "# Construct a point object for the Eiffel Tower\n",
    "eiffel_tower = Point(648237.3, 6862271.9)"
   ]
  },
  {
   "cell_type": "code",
   "execution_count": 26,
   "metadata": {
    "clear_cell": true
   },
   "outputs": [],
   "source": [
    "# %load _solved/solutions/03-spatial-relationships-operations6.py"
   ]
  },
  {
   "cell_type": "code",
   "execution_count": 27,
   "metadata": {
    "clear_cell": true
   },
   "outputs": [],
   "source": [
    "# %load _solved/solutions/03-spatial-relationships-operations7.py"
   ]
  },
  {
   "cell_type": "markdown",
   "metadata": {},
   "source": [
    "<div class=\"alert alert-success\">\n",
    "\n",
    "**EXERCISE: How far is the closest bike station?**\n",
    "\n",
    "Now, we might be interested in the bike stations nearby the Eiffel Tower. To explore them, let's visualize the Eiffel Tower itself as well as the bikes stations within 1km.\n",
    "\n",
    "To do this, we can calculate the distance to the Eiffel Tower for each of the stations. Based on this result, we can then create a mask that takes `True` if the station is within 1km, and `False` otherwise, and use it to filter the stations GeoDataFrame. Finally, we make a visualization of this subset.\n",
    "\n",
    "* Calculate the distance to the Eiffel Tower for each station, and call the result `dist_eiffel`.\n",
    "* Print the distance to the closest station (which is the minimum of `dist_eiffel`).\n",
    "* Select the rows the `stations` GeoDataFrame where the distance to the Eiffel Tower is less than 1 km (note that the distance is in meters). Call the result `stations_eiffel`.\n",
    "\n",
    "<details><summary>Hints</summary>\n",
    "\n",
    "* The `distance()` method of a GeoDataFrame works element-wise: it calculates the distance between each geometry in the GeoDataFrame and the geometry passed to the method.\n",
    "* A Series has a `min()` method to calculate the minimum value.\n",
    "* To create a boolean mask based on a condition, we can do e.g. `s < 100`.\n",
    "\n",
    "</details>\n",
    "\n",
    "</div>"
   ]
  },
  {
   "cell_type": "code",
   "execution_count": 28,
   "metadata": {
    "clear_cell": true
   },
   "outputs": [],
   "source": [
    "# %load _solved/solutions/03-spatial-relationships-operations8.py"
   ]
  },
  {
   "cell_type": "code",
   "execution_count": 29,
   "metadata": {
    "clear_cell": true
   },
   "outputs": [],
   "source": [
    "# %load _solved/solutions/03-spatial-relationships-operations9.py"
   ]
  },
  {
   "cell_type": "code",
   "execution_count": 30,
   "metadata": {
    "clear_cell": true
   },
   "outputs": [],
   "source": [
    "# %load _solved/solutions/03-spatial-relationships-operations10.py"
   ]
  },
  {
   "cell_type": "code",
   "execution_count": 31,
   "metadata": {},
   "outputs": [
    {
     "ename": "NameError",
     "evalue": "name 'stations_eiffel' is not defined",
     "output_type": "error",
     "traceback": [
      "\u001b[0;31m---------------------------------------------------------------------------\u001b[0m",
      "\u001b[0;31mNameError\u001b[0m                                 Traceback (most recent call last)",
      "\u001b[0;32m<ipython-input-31-42088345acf4>\u001b[0m in \u001b[0;36m<module>\u001b[0;34m\u001b[0m\n\u001b[1;32m      1\u001b[0m \u001b[0;31m# Make a plot of the close-by restaurants\u001b[0m\u001b[0;34m\u001b[0m\u001b[0;34m\u001b[0m\u001b[0;34m\u001b[0m\u001b[0m\n\u001b[0;32m----> 2\u001b[0;31m \u001b[0max\u001b[0m \u001b[0;34m=\u001b[0m \u001b[0mstations_eiffel\u001b[0m\u001b[0;34m.\u001b[0m\u001b[0mto_crs\u001b[0m\u001b[0;34m(\u001b[0m\u001b[0mepsg\u001b[0m\u001b[0;34m=\u001b[0m\u001b[0;36m3857\u001b[0m\u001b[0;34m)\u001b[0m\u001b[0;34m.\u001b[0m\u001b[0mplot\u001b[0m\u001b[0;34m(\u001b[0m\u001b[0;34m)\u001b[0m\u001b[0;34m\u001b[0m\u001b[0;34m\u001b[0m\u001b[0m\n\u001b[0m\u001b[1;32m      3\u001b[0m \u001b[0mgeopandas\u001b[0m\u001b[0;34m.\u001b[0m\u001b[0mGeoSeries\u001b[0m\u001b[0;34m(\u001b[0m\u001b[0;34m[\u001b[0m\u001b[0meiffel_tower\u001b[0m\u001b[0;34m]\u001b[0m\u001b[0;34m,\u001b[0m \u001b[0mcrs\u001b[0m\u001b[0;34m=\u001b[0m\u001b[0;34m'EPSG:2154'\u001b[0m\u001b[0;34m)\u001b[0m\u001b[0;34m.\u001b[0m\u001b[0mto_crs\u001b[0m\u001b[0;34m(\u001b[0m\u001b[0mepsg\u001b[0m\u001b[0;34m=\u001b[0m\u001b[0;36m3857\u001b[0m\u001b[0;34m)\u001b[0m\u001b[0;34m.\u001b[0m\u001b[0mplot\u001b[0m\u001b[0;34m(\u001b[0m\u001b[0max\u001b[0m\u001b[0;34m=\u001b[0m\u001b[0max\u001b[0m\u001b[0;34m,\u001b[0m \u001b[0mcolor\u001b[0m\u001b[0;34m=\u001b[0m\u001b[0;34m'red'\u001b[0m\u001b[0;34m)\u001b[0m\u001b[0;34m\u001b[0m\u001b[0;34m\u001b[0m\u001b[0m\n\u001b[1;32m      4\u001b[0m \u001b[0;32mimport\u001b[0m \u001b[0mcontextily\u001b[0m\u001b[0;34m\u001b[0m\u001b[0;34m\u001b[0m\u001b[0m\n\u001b[1;32m      5\u001b[0m \u001b[0mcontextily\u001b[0m\u001b[0;34m.\u001b[0m\u001b[0madd_basemap\u001b[0m\u001b[0;34m(\u001b[0m\u001b[0max\u001b[0m\u001b[0;34m)\u001b[0m\u001b[0;34m\u001b[0m\u001b[0;34m\u001b[0m\u001b[0m\n",
      "\u001b[0;31mNameError\u001b[0m: name 'stations_eiffel' is not defined"
     ]
    }
   ],
   "source": [
    "# Make a plot of the close-by restaurants\n",
    "ax = stations_eiffel.to_crs(epsg=3857).plot()\n",
    "geopandas.GeoSeries([eiffel_tower], crs='EPSG:2154').to_crs(epsg=3857).plot(ax=ax, color='red')\n",
    "import contextily\n",
    "contextily.add_basemap(ax)\n",
    "ax.set_axis_off()"
   ]
  },
  {
   "cell_type": "markdown",
   "metadata": {},
   "source": [
    "## Spatial operations\n",
    "\n",
    "Next to the spatial predicates that return boolean values, Shapely and GeoPandas also provide operations that return new geometric objects.\n",
    "\n",
    "**Binary operations:**\n",
    "\n",
    "<table><tr>\n",
    "<td> <img src=\"img/spatial-operations-base.png\"/> </td>\n",
    "<td> <img src=\"img/spatial-operations-intersection.png\"/> </td>\n",
    "</tr>\n",
    "<tr>\n",
    "<td> <img src=\"img/spatial-operations-union.png\"/> </td>\n",
    "<td> <img src=\"img/spatial-operations-difference.png\"/> </td>\n",
    "</tr></table>\n",
    "\n",
    "**Buffer:**\n",
    "\n",
    "<table><tr>\n",
    "<td> <img src=\"img/spatial-operations-buffer-point1.png\"/> </td>\n",
    "<td> <img src=\"img/spatial-operations-buffer-point2.png\"/> </td>\n",
    "</tr>\n",
    "<tr>\n",
    "<td> <img src=\"img/spatial-operations-buffer-line.png\"/> </td>\n",
    "<td> <img src=\"img/spatial-operations-buffer-polygon.png\"/> </td>\n",
    "</tr></table>\n",
    "\n",
    "\n",
    "See https://shapely.readthedocs.io/en/stable/manual.html#spatial-analysis-methods for more details."
   ]
  },
  {
   "cell_type": "markdown",
   "metadata": {},
   "source": [
    "For example, using the toy data from above, let's construct a buffer around Brussels (which returns a Polygon):"
   ]
  },
  {
   "cell_type": "code",
   "execution_count": 32,
   "metadata": {},
   "outputs": [
    {
     "data": {
      "text/plain": [
       "<matplotlib.axes._subplots.AxesSubplot at 0x7f2ce59ad790>"
      ]
     },
     "execution_count": 32,
     "metadata": {},
     "output_type": "execute_result"
    },
    {
     "data": {
      "image/png": "[encoded data removed]",
      "text/plain": [
       "<Figure size 432x288 with 1 Axes>"
      ]
     },
     "metadata": {
      "needs_background": "light"
     },
     "output_type": "display_data"
    }
   ],
   "source": [
    "geopandas.GeoSeries([belgium, brussels.buffer(1)]).plot(alpha=0.5, cmap='tab10')"
   ]
  },
  {
   "cell_type": "markdown",
   "metadata": {},
   "source": [
    "and now take the intersection, union or difference of those two polygons:"
   ]
  },
  {
   "cell_type": "code",
   "execution_count": 33,
   "metadata": {},
   "outputs": [
    {
     "data": {
      "image/svg+xml": [
       "<svg xmlns=\"http://www.w3.org/2000/svg\" xmlns:xlink=\"http://www.w3.org/1999/xlink\" width=\"100.0\" height=\"100.0\" viewBox=\"3.25137074969045 49.827496649772556 2.16 1.727527058925574\" preserveAspectRatio=\"xMinYMin meet\"><g transform=\"matrix(1,0,0,-1,0,101.38252035847069)\"><path fill-rule=\"evenodd\" fill=\"#66cc99\" stroke=\"#555555\" stroke-width=\"0.0432\" opacity=\"0.6\" d=\"M 5.33137074969045,50.83526293533032 L 5.326555476362647,50.73724579500076 L 5.31215603009368,50.64017261331419 L 5.2883110854226585,50.54497825807586 L 5.255250282201737,50.45257950296523 L 5.213292014038805,50.363866198504326 L 5.162840361992996,50.27969270231072 L 5.104381203053188,50.20086965116668 L 5.038477530876998,50.128156154143774 L 4.9657640338540965,50.06225248196758 L 4.886940982710053,50.00379332302778 L 4.829705194957567,49.96948751206782 L 4.799221632515696,49.98537303323636 L 4.2860229834250845,49.907496649772554 L 3.588184441755658,50.37899241800352 L 3.368503352425684,50.568640414094 L 3.3505854692872195,50.64017261331419 L 3.336186023018253,50.73724579500076 L 3.33137074969045,50.83526293533032 L 3.3361860230182527,50.93328007565988 L 3.3505854692872195,51.03035325734645 L 3.374430413958241,51.12554761258478 L 3.407491217179163,51.21794636769541 L 3.4494494853420945,51.306659672156314 L 3.4633469043393807,51.32984611497105 L 4.047071160507528,51.26725861266857 L 4.973991326526914,51.47502370869813 L 5.210342370848309,51.311580854512094 L 5.213292014038802,51.30665967215632 L 5.255250282201734,51.21794636769542 L 5.288311085422657,51.12554761258479 L 5.3121560300936785,51.030353257346455 L 5.326555476362646,50.93328007565989 L 5.33137074969045,50.83526293533033 L 5.33137074969045,50.83526293533032 z\" /></g></svg>"
      ],
      "text/plain": [
       "<shapely.geometry.polygon.Polygon at 0x7f2ce597e650>"
      ]
     },
     "execution_count": 33,
     "metadata": {},
     "output_type": "execute_result"
    }
   ],
   "source": [
    "brussels.buffer(1).intersection(belgium)"
   ]
  },
  {
   "cell_type": "code",
   "execution_count": 34,
   "metadata": {},
   "outputs": [
    {
     "data": {
      "image/svg+xml": [
       "<svg xmlns=\"http://www.w3.org/2000/svg\" xmlns:xlink=\"http://www.w3.org/1999/xlink\" width=\"100.0\" height=\"100.0\" viewBox=\"2.3678496272976077 49.383760142609 3.9345319336096796 2.5972261976698263\" preserveAspectRatio=\"xMinYMin meet\"><g transform=\"matrix(1,0,0,-1,0,101.36474648288782)\"><path fill-rule=\"evenodd\" fill=\"#66cc99\" stroke=\"#555555\" stroke-width=\"0.07869063867219359\" opacity=\"0.6\" d=\"M 4.829705194957567,49.96948751206782 L 4.802767486516449,49.95334167098196 L 4.71405418205554,49.911383402819034 L 4.621655426944914,49.878322599598114 L 4.52646107170658,49.85447765492709 L 4.429387890020012,49.84007820865812 L 4.331370749690452,49.83526293533032 L 4.233353609360891,49.84007820865812 L 4.136280427674324,49.85447765492709 L 4.04108607243599,49.878322599598114 L 3.948687317325362,49.911383402819034 L 3.859974012864454,49.95334167098196 L 3.7758005166708495,50.00379332302777 L 3.696977465526806,50.06225248196758 L 3.6242639685039038,50.128156154143774 L 3.558360296327714,50.20086965116667 L 3.4999011373879054,50.27969270231072 L 3.449449485342096,50.36386619850432 L 3.407491217179164,50.45257950296523 L 3.3744304139582413,50.54497825807586 L 3.368503352425684,50.568640414094 L 3.1232515804256593,50.78036326761455 L 2.658422071960274,50.796848049515745 L 2.5135730322461143,51.148506171261886 L 3.3149711442285366,51.345780951536085 L 3.3150114849641596,51.34577662473805 L 3.3149711442285366,51.34575511331991 L 3.4633469043393807,51.32984611497105 L 3.4999011373879045,51.39083316834992 L 3.558360296327713,51.46965621949396 L 3.624263968503902,51.542369716516866 L 3.696977465526804,51.60827338869306 L 3.775800516670847,51.66673254763286 L 3.859974012864451,51.71718419967868 L 3.9486873173253585,51.759142467841606 L 4.041086072435986,51.792203271062526 L 4.136280427674319,51.81604821573355 L 4.233353609360886,51.83044766200252 L 4.331370749690447,51.83526293533032 L 4.429387890020007,51.83044766200252 L 4.526461071706574,51.81604821573355 L 4.621655426944908,51.79220327106253 L 4.714054182055536,51.759142467841606 L 4.802767486516443,51.71718419967868 L 4.886940982710048,51.66673254763287 L 4.965764033854091,51.60827338869306 L 5.038477530876993,51.54236971651687 L 5.104381203053183,51.46965621949397 L 5.162840361992991,51.39083316834993 L 5.210342370848309,51.311580854512094 L 5.606975945670001,51.03729848896978 L 6.15665815595878,50.80372101501058 L 6.043073357781111,50.128051662794235 L 5.782417433300907,50.09032786722122 L 5.674051954784829,49.529483547557504 L 4.829705194957567,49.96948751206782 z\" /></g></svg>"
      ],
      "text/plain": [
       "<shapely.geometry.polygon.Polygon at 0x7f2ce5972250>"
      ]
     },
     "execution_count": 34,
     "metadata": {},
     "output_type": "execute_result"
    }
   ],
   "source": [
    "brussels.buffer(1).union(belgium)"
   ]
  },
  {
   "cell_type": "code",
   "execution_count": 35,
   "metadata": {},
   "outputs": [
    {
     "data": {
      "image/svg+xml": [
       "<svg xmlns=\"http://www.w3.org/2000/svg\" xmlns:xlink=\"http://www.w3.org/1999/xlink\" width=\"100.0\" height=\"100.0\" viewBox=\"3.288503352425684 49.75526293533032 2.001839018422625 2.1599999999999966\" preserveAspectRatio=\"xMinYMin meet\"><g transform=\"matrix(1,0,0,-1,0,101.67052587066064)\"><g><path fill-rule=\"evenodd\" fill=\"#66cc99\" stroke=\"#555555\" stroke-width=\"0.04319999999999993\" opacity=\"0.6\" d=\"M 4.829705194957567,49.96948751206782 L 4.802767486516449,49.95334167098196 L 4.71405418205554,49.911383402819034 L 4.621655426944914,49.878322599598114 L 4.52646107170658,49.85447765492709 L 4.429387890020012,49.84007820865812 L 4.331370749690452,49.83526293533032 L 4.233353609360891,49.84007820865812 L 4.136280427674324,49.85447765492709 L 4.04108607243599,49.878322599598114 L 3.948687317325362,49.911383402819034 L 3.859974012864454,49.95334167098196 L 3.7758005166708495,50.00379332302777 L 3.696977465526806,50.06225248196758 L 3.6242639685039038,50.128156154143774 L 3.558360296327714,50.20086965116667 L 3.4999011373879054,50.27969270231072 L 3.449449485342096,50.36386619850432 L 3.407491217179164,50.45257950296523 L 3.3744304139582413,50.54497825807586 L 3.368503352425684,50.568640414094 L 3.588184441755658,50.37899241800352 L 4.2860229834250845,49.907496649772554 L 4.799221632515696,49.98537303323636 L 4.829705194957567,49.96948751206782 z\" /><path fill-rule=\"evenodd\" fill=\"#66cc99\" stroke=\"#555555\" stroke-width=\"0.04319999999999993\" opacity=\"0.6\" d=\"M 3.4633469043393807,51.32984611497105 L 3.4999011373879045,51.39083316834992 L 3.558360296327713,51.46965621949396 L 3.624263968503902,51.542369716516866 L 3.696977465526804,51.60827338869306 L 3.775800516670847,51.66673254763286 L 3.859974012864451,51.71718419967868 L 3.9486873173253585,51.759142467841606 L 4.041086072435986,51.792203271062526 L 4.136280427674319,51.81604821573355 L 4.233353609360886,51.83044766200252 L 4.331370749690447,51.83526293533032 L 4.429387890020007,51.83044766200252 L 4.526461071706574,51.81604821573355 L 4.621655426944908,51.79220327106253 L 4.714054182055536,51.759142467841606 L 4.802767486516443,51.71718419967868 L 4.886940982710048,51.66673254763287 L 4.965764033854091,51.60827338869306 L 5.038477530876993,51.54236971651687 L 5.104381203053183,51.46965621949397 L 5.162840361992991,51.39083316834993 L 5.210342370848309,51.311580854512094 L 4.973991326526914,51.47502370869813 L 4.047071160507528,51.26725861266857 L 3.4633469043393807,51.32984611497105 z\" /></g></g></svg>"
      ],
      "text/plain": [
       "<shapely.geometry.multipolygon.MultiPolygon at 0x7f2ce59c6690>"
      ]
     },
     "execution_count": 35,
     "metadata": {},
     "output_type": "execute_result"
    }
   ],
   "source": [
    "brussels.buffer(1).difference(belgium)"
   ]
  },
  {
   "cell_type": "markdown",
   "metadata": {},
   "source": [
    "Another useful method is the `unary_union` attribute, which converts the set of geometry objects in a GeoDataFrame into a single geometry object by taking the union of all those geometries.\n",
    "\n",
    "For example, we can construct a single object for the Africa continent:"
   ]
  },
  {
   "cell_type": "code",
   "execution_count": 36,
   "metadata": {},
   "outputs": [],
   "source": [
    "africa_countries = countries[countries['continent'] == 'Africa']"
   ]
  },
  {
   "cell_type": "code",
   "execution_count": 37,
   "metadata": {},
   "outputs": [],
   "source": [
    "africa = africa_countries.unary_union"
   ]
  },
  {
   "cell_type": "code",
   "execution_count": 38,
   "metadata": {},
   "outputs": [
    {
     "data": {
      "image/svg+xml": [
       "<svg xmlns=\"http://www.w3.org/2000/svg\" xmlns:xlink=\"http://www.w3.org/1999/xlink\" width=\"100.0\" height=\"100.0\" viewBox=\"-20.51180912116627 -37.70593278579932 74.53244555184187 77.94269362824147\" preserveAspectRatio=\"xMinYMin meet\"><g transform=\"matrix(1,0,0,-1,0,2.5308280566428323)\"><g><path fill-rule=\"evenodd\" fill=\"#66cc99\" stroke=\"#555555\" stroke-width=\"1.5588538725648293\" opacity=\"0.6\" d=\"M 49.54351891459575,-12.469832858940554 L 49.808980747279094,-12.895284925999555 L 50.056510857957164,-13.555761407121985 L 50.21743126811407,-14.758788750876796 L 50.47653689962553,-15.226512139550543 L 50.377111443895956,-15.706069431219127 L 50.20027469259318,-16.000263360256767 L 49.86060550313868,-15.414252618066918 L 49.67260664246086,-15.710203545802479 L 49.863344354050156,-16.451036879138776 L 49.77456424337271,-16.8750420060936 L 49.49861209493412,-17.106035658438273 L 49.435618523970305,-17.953064060134366 L 49.041792433473944,-19.118781019774445 L 48.54854088724801,-20.496888116134127 L 47.93074913919867,-22.391501153251085 L 47.54772342305131,-23.781958916928517 L 47.095761346226595,-24.941629733990453 L 46.282477654817086,-25.178462823184105 L 45.40950768411045,-25.60143442149309 L 44.833573846217554,-25.34610116953894 L 44.03972049334976,-24.988345228782308 L 43.76376834491117,-24.46067717864999 L 43.697777540874455,-23.574116306250602 L 43.345654331237625,-22.776903985283873 L 43.254187046081,-22.057413018484123 L 43.43329756040464,-21.33647511158019 L 43.893682895692926,-21.16330738697013 L 43.896370070172104,-20.830459486578174 L 44.37432539243966,-20.07236622485639 L 44.46439741392439,-19.435454196859048 L 44.23242190936617,-18.961994724200906 L 44.042976108584156,-18.33138722094317 L 43.96308434426091,-17.409944756746782 L 44.31246870298628,-16.850495700754955 L 44.4465173683514,-16.216219170804507 L 44.94493655780653,-16.1793738745804 L 45.50273196796499,-15.97437346767854 L 45.87299360533626,-15.793454278224687 L 46.31224327981721,-15.780018405828798 L 46.882182651564285,-15.210182386946315 L 47.70512983581236,-14.594302666891764 L 48.005214878131255,-14.091232598530375 L 47.869047479042166,-13.663868503476586 L 48.29382775248138,-13.784067884987486 L 48.84506025573879,-13.089174899958664 L 48.86350874206698,-12.48786793381042 L 49.194651320193316,-12.04055673589197 L 49.54351891459575,-12.469832858940554 z\" /><path fill-rule=\"evenodd\" fill=\"#66cc99\" stroke=\"#555555\" stroke-width=\"1.5588538725648293\" opacity=\"0.6\" d=\"M -7.7121593896697505,4.364565944837722 L -7.974107224957251,4.355755113131963 L -9.004793667018674,4.8324185245922 L -9.913420376006684,5.593560695819207 L -10.765383876986645,6.140710760925558 L -11.438779466182055,6.7859168563057475 L -11.70819454593574,6.860098374860726 L -12.428098924193819,7.26294200279203 L -12.949049038128194,7.798645738145738 L -13.124025437868482,8.163946438016978 L -13.246550258832515,8.903048610871508 L -13.685153977909792,9.49474376061346 L -14.074044969122282,9.886166897008252 L -14.33007585291237,10.015719712763968 L -14.579698859098258,10.214467271358515 L -14.693231980843505,10.656300767454042 L -14.839553798877944,10.87657156009814 L -15.130311245168173,11.040411688679526 L -15.664180467175527,11.458474025920795 L -16.085214199273565,11.52459402103824 L -16.314786749730203,11.80651479740655 L -16.30894731288123,11.95870189050612 L -16.61383826340328,12.170911159712702 L -16.677451951554573,12.384851589401052 L -16.841524624081273,13.15139394780256 L -16.71372880702347,13.594958604379855 L -17.126106736712615,14.373515733289224 L -17.62504269049066,14.729540513564073 L -17.18517289882223,14.919477240452862 L -16.700706346085923,15.621527411354108 L -16.463098110407884,16.13503611903846 L -16.549707810929064,16.673892116761962 L -16.270551723688357,17.166962795474873 L -16.14634741867485,18.108481553616656 L -16.256883307347167,19.096715806550307 L -16.37765112961327,19.593817246981985 L -16.277838100641517,20.0925206568147 L -16.536323614965468,20.567866319251493 L -17.06342322434257,20.999752102130827 L -17.020428432675743,21.42231028898155 L -16.973247849993243,21.885744533774982 L -16.589136928767687,22.158234361250095 L -16.261921759495607,22.679339504481277 L -16.32641394699587,23.017768459560926 L -15.982610642958008,23.723358466074018 L -15.426003790742158,24.359133612561067 L -15.089331834360706,24.520260728447 L -14.824645148161636,25.103532619725343 L -14.800925665739726,25.63626496022232 L -14.439939947964803,26.25441844329768 L -13.773804897506409,26.618892320252314 L -13.13994177901435,27.640147813420526 L -13.121613369914769,27.65414767171984 L -12.618836635783083,28.03818553314869 L -11.688919236690737,28.148643907172527 L -10.900956997104373,28.832142238880948 L -10.399592251008613,29.09858592377782 L -9.564811163765683,29.93357371674989 L -9.81471839032912,31.17773550060909 L -9.434793260119307,32.038096421836514 L -9.300692918321886,32.564679266890664 L -8.657476365584984,33.240245266242425 L -7.65417843263819,33.69706492770254 L -6.912544114601417,34.110476386037476 L -6.244342006851383,35.14586538343755 L -5.92999426921989,35.75998810479402 L -5.193863491222004,35.75518219659088 L -4.591006232105116,35.330711981745594 L -3.640056525070065,35.399855048152006 L -2.6043057926440554,35.179093329401155 L -2.169913702798624,35.16839630791668 L -1.208602871089056,35.7148487411871 L -0.12745439289460592,35.888662421200806 L 0.5038765804152092,36.30127289483528 L 1.466918572606545,36.605647081034405 L 3.1616988460508253,36.78390493422522 L 4.81575809084913,36.86503693292346 L 5.3201200700177935,36.71651886651662 L 6.261819695672613,37.11065501560674 L 7.330384962603971,37.11838064223437 L 7.737078484741005,36.885707505840216 L 8.420964389691676,36.94642731378316 L 9.509993523810607,37.349994411766545 L 10.210002475636317,37.230001735984814 L 10.180650262094531,36.724037787415085 L 11.02886722173335,37.09210317641396 L 11.100025668999251,36.899996039368915 L 10.600004510143094,36.410000108377375 L 10.593286573945138,35.94744436293281 L 10.939518670300687,35.698984076473494 L 10.807847120821009,34.83350718844919 L 10.149592726287125,34.33077301689771 L 10.339658644256616,33.78574168551532 L 10.856836378633687,33.76874013929128 L 11.108500603895122,33.293342800422195 L 11.488787469131012,33.13699575452314 L 12.663310000000024,32.79278000000005 L 13.083260000000053,32.878820000000076 L 13.918679999999995,32.71196000000009 L 15.245630000000006,32.26508000000007 L 15.713939999999923,31.376259999999945 L 16.611620000000016,31.18217999999996 L 18.02108999999996,30.76356999999996 L 19.08641,30.26639 L 19.574040000000082,30.52582000000001 L 20.053349999999966,30.985760000000028 L 19.82033000000007,31.751790000000142 L 20.13396999999992,32.238200000000006 L 20.854520000000093,32.70679999999999 L 21.54298,32.843200000000024 L 22.895760000000053,32.63857999999999 L 23.236800000000017,32.191490000000044 L 23.609130000000107,32.18725999999998 L 23.92750000000001,32.01667000000009 L 24.921139999999923,31.89936 L 25.16482,31.56915 L 26.49533,31.58568 L 27.457620000000002,31.32126 L 28.450480000000002,31.025769999999998 L 28.913529999999998,30.87005 L 29.683419999999998,31.186860000000003 L 30.09503,31.4734 L 30.976930000000003,31.55586 L 31.687960000000004,31.4296 L 31.96041,30.933600000000002 L 32.19247,31.26034 L 32.99392,31.024070000000002 L 33.7734,30.967460000000003 L 34.26543474464621,31.21935730952032 L 34.265440000000005,31.219359999999998 L 34.823243288783814,29.76108076171822 L 34.9226,29.50133 L 34.64174,29.099420000000002 L 34.42655,28.343989999999998 L 34.15451,27.8233 L 33.92136,27.6487 L 33.58811,27.97136 L 33.13676,28.417650000000002 L 32.423230000000004,29.851080000000003 L 32.32046,29.76043 L 32.73482,28.70523 L 33.34876,27.69989 L 34.10455,26.14227 L 34.473870000000005,25.598560000000003 L 34.79507,25.03375 L 35.69241,23.92671 L 35.49372,23.752370000000003 L 35.52598,23.10244 L 36.690690000000004,22.20485 L 36.86622999999997,22.0 L 37.1887200000001,21.018850000000043 L 36.969409999999925,20.83744000000013 L 37.11470000000014,19.807960000000094 L 37.4817900000001,18.61409000000009 L 37.862760000000094,18.36785999999995 L 38.410089959473225,17.998307399970315 L 38.990622999840014,16.840626125551694 L 39.26611006038803,15.92272349696725 L 39.814293654140215,15.435647284400318 L 41.17927493669765,14.491079616753211 L 41.73495161313235,13.921036892141558 L 42.27683068214486,13.343992010954423 L 42.58957645037526,13.000421250861905 L 43.08122602720016,12.699638576707116 L 43.31785241066467,12.390148423711025 L 43.286381463398925,11.974928290245884 L 42.715873650896526,11.735640570518342 L 43.14530480324214,11.462039699748857 L 43.470659620951665,11.277709865763882 L 43.66666832863484,10.86416921634816 L 44.11780358254282,10.445538438351605 L 44.614259067570856,10.442205308468942 L 45.55694054543915,10.698029486529776 L 46.645401238803004,10.816549383991173 L 47.525657586462785,11.12722809492999 L 48.02159630716778,11.193063869669743 L 48.37878380716927,11.375481675660126 L 48.94820641459347,11.41062164961852 L 48.94820475850985,11.41061728169797 L 49.26776,11.43033 L 49.72862,11.5789 L 50.25878000000001,11.67957 L 50.73202,12.021900000000002 L 51.1112,12.024640000000002 L 51.13387,11.74815 L 51.04153,11.16651 L 51.04531,10.6409 L 50.834179999999996,10.279720000000001 L 50.55239,9.19874 L 50.07092,8.08173 L 49.45270000000001,6.80466 L 48.594550000000005,5.339110000000001 L 47.740790000000004,4.2194 L 46.56476,2.85529 L 45.563990000000004,2.04576 L 44.068149999999996,1.0528300000000002 L 43.13597,0.2922 L 42.04157000000001,-0.9191600000000001 L 41.81095,-1.4464700000000001 L 41.58513,-1.6832500000000001 L 40.88477,-2.08255 L 40.63785000000001,-2.49979 L 40.26304000000001,-2.57309 L 40.12119,-3.27768 L 39.80006,-3.68116 L 39.604890000000005,-4.3465300000000004 L 39.20222,-4.67677 L 38.74053999999995,-5.9089499999999475 L 38.79977000000008,-6.475660000000005 L 39.44,-6.839999999999861 L 39.47000000000014,-7.099999999999966 L 39.19468999999998,-7.703899999999976 L 39.25203000000005,-8.00780999999995 L 39.18652000000009,-8.48550999999992 L 39.53574000000009,-9.112369999999885 L 39.94960000000003,-10.098400000000026 L 40.316586229110854,-10.317097752817492 L 40.31658857601719,-10.317096042525698 L 40.47838748552303,-10.765440769089993 L 40.437253045418686,-11.761710707245015 L 40.56081139502857,-12.639176527561027 L 40.59962039567975,-14.201975192931862 L 40.775475294768995,-14.691764418194241 L 40.4772506040126,-15.406294447493972 L 40.08926395036522,-16.10077402106446 L 39.45255862809705,-16.72089120856694 L 38.53835086442152,-17.101023044505958 L 37.41113284683888,-17.586368096591237 L 36.28127933120936,-18.65968759529345 L 35.89649661636406,-18.842260430580637 L 35.198399692533144,-19.552811374593894 L 34.78638349787005,-19.784011732667736 L 34.70189253107284,-20.49704314543101 L 35.176127150215365,-21.25436126066841 L 35.37342776870574,-21.840837090748877 L 35.385848253705404,-22.14 L 35.562545536369086,-22.090000000000003 L 35.533934767404304,-23.070787855727758 L 35.37177412287238,-23.5353589820317 L 35.60747033055563,-23.706563002214683 L 35.45874555841962,-24.12260995859655 L 35.04073489761066,-24.478350518493805 L 34.21582400893547,-24.81631438568266 L 33.01321007663901,-25.357573337507738 L 32.574632195777866,-25.727318210556092 L 32.66036339695009,-26.148584486599447 L 32.91595503106569,-26.215867201443466 L 32.830120477028885,-26.742191664336197 L 32.580264926897684,-27.470157566031816 L 32.46213260267845,-28.301011244420557 L 32.20338870619304,-28.75240488049007 L 31.521001417778876,-29.257386976846256 L 31.325561150851,-29.401977634398914 L 30.901762729625347,-29.909956963828037 L 30.62281334811382,-30.42377573010613 L 30.05571618014278,-31.140269463832958 L 28.92555260591954,-32.1720411109725 L 28.2197558936771,-32.771952813448856 L 27.464608188595975,-33.2269637997788 L 26.419452345492825,-33.61495045342619 L 25.90966434093349,-33.6670402971764 L 25.780628289500697,-33.94464609144834 L 25.172861769315972,-33.796851495093584 L 24.677853224392123,-33.98717579522455 L 23.594043409934642,-33.794474379208154 L 22.988188917744736,-33.91643075941698 L 22.574157342222236,-33.86408253350531 L 21.542799106541025,-34.258838799782936 L 20.689052768647002,-34.417175388325234 L 20.071261020597632,-34.79513681410799 L 19.61640506356457,-34.81916635512371 L 19.193278435958717,-34.46259897230979 L 18.85531456876987,-34.444305515278465 L 18.42464318204938,-33.99787281670897 L 18.377410922934615,-34.13652068454807 L 18.24449913907992,-33.86775156019803 L 18.250080193767445,-33.28143075941444 L 17.92519046394844,-32.61129078545343 L 18.247909783611192,-32.42913136162457 L 18.22176150887148,-31.66163298922567 L 17.56691775886887,-30.725721123987547 L 17.064416131262703,-29.878641045859162 L 17.062917514726223,-29.875953871379984 L 16.344976840895242,-28.5767050106977 L 15.601818068105816,-27.821247247022804 L 15.21047244635946,-27.090955905874047 L 14.989710727608553,-26.117371921495156 L 14.743214145576331,-25.39292001719538 L 14.408144158595833,-23.853014011329847 L 14.385716586981149,-22.65665292734069 L 14.257714064194175,-22.111208184499958 L 13.86864220546866,-21.699036960539978 L 13.35249799973744,-20.872834161057504 L 12.826845330464494,-19.673165785401665 L 12.608564080463621,-19.0453488094877 L 11.794918654028066,-18.069129327061916 L 11.734198846085093,-17.301889336824487 L 11.64009606288164,-16.67314218512928 L 11.778537224991538,-15.793816013250762 L 12.12358076340439,-14.878316338767902 L 12.175618930722322,-14.449143568583864 L 12.50009524908296,-13.547699883684473 L 12.738478631245385,-13.137905775609923 L 13.312913852601895,-12.483630466362499 L 13.633721144269856,-12.038644707897177 L 13.738727654686897,-11.297863050993115 L 13.68637942877524,-10.731075941615913 L 13.387327915102219,-10.373578383020714 L 13.12098758306982,-9.766897067914101 L 12.875369500386597,-9.166933689005475 L 12.929061313537858,-8.95909107832756 L 13.23643273280993,-8.562629489784328 L 12.93304039882429,-7.596538588087739 L 12.728298374083948,-6.927122084178791 L 12.2273470394465,-6.294447523629358 L 12.32243167486351,-6.10009246177966 L 12.182336866920252,-5.789930515163839 L 11.91496300624209,-5.037986748884791 L 11.093772820691925,-3.978826592630547 L 10.06613528813574,-2.9694825171056816 L 9.40524539555497,-2.144313246269043 L 8.79799563969317,-1.111301364754496 L 8.830086704146424,-0.7790735815500369 L 9.048419630579588,-0.45935149496021666 L 9.29135053878369,0.2686660831676875 L 9.492888624721985,1.010119533691494 L 9.305613234096256,1.1609113631191832 L 9.649158155972628,2.2838660750377358 L 9.795195753629457,3.073404445809117 L 9.404366896206,3.734526882335203 L 8.948115675501072,3.9041289331171356 L 8.744923943729418,4.35221527751996 L 8.48881554529089,4.495617377129918 L 8.500287713259695,4.7719829370268485 L 7.462108188515941,4.412108262546241 L 7.0825964697644395,4.4646890324032285 L 6.6980721370806,4.240594183769517 L 5.898172641634687,4.262453314628985 L 5.3628048030908815,4.887970689305959 L 5.033574252959369,5.611802476418234 L 4.325607130560684,6.2706511499234665 L 3.574180128604553,6.258300482605719 L 2.6917016943562544,6.258817246928629 L 1.8652405127123188,6.142157701029731 L 1.0601216976049272,5.928837388528876 L -0.5076379052659377,5.3434726017426755 L -1.0636246402941936,5.000547797053812 L -1.9647065901675944,4.710462144383371 L -2.856125047202397,4.994475816259509 L -3.3110843571000714,4.984295559098015 L -4.008819545904942,5.179813340674315 L -4.649917364917911,5.168263658057086 L -5.8344962223445265,4.993700669775137 L -6.528769090185847,4.705087795425015 L -7.5189412093304355,4.338288479017308 L -7.7121593896697505,4.364565944837722 z\" /></g></g></svg>"
      ],
      "text/plain": [
       "<shapely.geometry.multipolygon.MultiPolygon at 0x7f2ce59820d0>"
      ]
     },
     "execution_count": 38,
     "metadata": {},
     "output_type": "execute_result"
    }
   ],
   "source": [
    "africa"
   ]
  },
  {
   "cell_type": "code",
   "execution_count": 39,
   "metadata": {},
   "outputs": [
    {
     "name": "stdout",
     "output_type": "stream",
     "text": [
      "MULTIPOLYGON (((49.54351891459575 -12.46983285894055, 49.80898074727909 -12.89528492599955, 50.05651085795716 -13.55576140712198, 50.21743126811407 -14.7587887508768, 50.47653689962553 -15.22651213955054, 50.37711144389596 -15.70606943121913, 50.20027469259318 -16.00026336025677, 49.86060550313868 -15.41425261806692, 49.67260664246086 -15.71020354580248, 49.86334435405016 -16.45103687913878, 49.77456424337271 -16.8750420060936, 49.49861209493412 -17.10603565843827, 49.43561852397031 -17.95306406013437, 49.04179243347394 -19.11878101977445, 48.54854088724801 -20.49688811613413, 47.93074913919867 -22.39150115325108, 47.54772342305131 -23.78195891692852, 47.0957613462266 -24.94162973399045, 46.28247765481709 -25.17846282318411, 45.40950768411045 -25.60143442149309, 44.83357384621755 -25.34610116953894, 44.03972049334976 -24.98834522878231, 43.76376834491117 -24.46067717864999, 43.69777754087445 -23.5741163062506, 43.34565433123763 -22.77690398528387, 43.254187046081 -22.05741301848412, 43\n"
     ]
    }
   ],
   "source": [
    "print(str(africa)[:1000])"
   ]
  },
  {
   "cell_type": "markdown",
   "metadata": {},
   "source": [
    "<div class=\"alert alert-info\" style=\"font-size:120%\">\n",
    "\n",
    "**REMEMBER**:\n",
    "\n",
    "GeoPandas (and Shapely for the individual objects) provides a whole lot of basic methods to analyse the geospatial data (distance, length, centroid, boundary, convex_hull, simplify, transform, ....), much more than the few that we can touch in this tutorial.\n",
    "\n",
    "\n",
    "* An overview of all methods provided by GeoPandas can be found here: http://geopandas.readthedocs.io/en/latest/reference.html\n",
    "\n",
    "\n",
    "</div>\n",
    "\n"
   ]
  },
  {
   "cell_type": "markdown",
   "metadata": {},
   "source": [
    "## Let's practice!"
   ]
  },
  {
   "cell_type": "markdown",
   "metadata": {},
   "source": [
    "<div class=\"alert alert-success\">\n",
    " <b>EXERCISE: What are the districts close to the Seine?</b>\n",
    " \n",
    " <p>\n",
    " Below, the coordinates for the Seine river in the neighbourhood of Paris are provided as a GeoJSON-like feature dictionary (created at http://geojson.io). \n",
    " </p>\n",
    " \n",
    "  <p>\n",
    " Based on this `seine` object, we want to know which districts are located close (maximum 150 m) to the Seine. \n",
    " </p>\n",
    " \n",
    " \n",
    " <p>\n",
    " <ul>\n",
    "  <li>Create a buffer of 150 m around the Seine.</li>\n",
    "  <li>Check which districts intersect with this buffered object.</li>\n",
    "  <li>Make a visualization of the districts indicating which districts are located close to the Seine.</li>\n",
    " </ul> \n",
    " </p>\n",
    " \n",
    "</div>"
   ]
  },
  {
   "cell_type": "code",
   "execution_count": 40,
   "metadata": {},
   "outputs": [
    {
     "name": "stderr",
     "output_type": "stream",
     "text": [
      "/srv/conda/envs/notebook/lib/python3.7/site-packages/pyproj/crs.py:77: FutureWarning: '+init=<authority>:<code>' syntax is deprecated. '<authority>:<code>' is the preferred initialization method.\n",
      "  return _prepare_from_string(\" \".join(pjargs))\n"
     ]
    }
   ],
   "source": [
    "districts = geopandas.read_file(\"data/paris_districts.geojson\").to_crs(epsg=2154)"
   ]
  },
  {
   "cell_type": "code",
   "execution_count": 41,
   "metadata": {},
   "outputs": [],
   "source": [
    "# created a line with http://geojson.io\n",
    "s_seine = geopandas.GeoDataFrame.from_features({\"type\":\"FeatureCollection\",\"features\":[{\"type\":\"Feature\",\"properties\":{},\"geometry\":{\"type\":\"LineString\",\"coordinates\":[[2.408924102783203,48.805619828930226],[2.4092674255371094,48.81703747481909],[2.3927879333496094,48.82325391133874],[2.360687255859375,48.84912860497674],[2.338714599609375,48.85827758964043],[2.318115234375,48.8641501307046],[2.298717498779297,48.863246707697],[2.2913360595703125,48.859519915404825],[2.2594070434570312,48.8311646245967],[2.2436141967773438,48.82325391133874],[2.236919403076172,48.82347994904826],[2.227306365966797,48.828339513221444],[2.2224998474121094,48.83862215329593],[2.2254180908203125,48.84856379804802],[2.2240447998046875,48.85409863123821],[2.230224609375,48.867989496547864],[2.260265350341797,48.89192242750887],[2.300262451171875,48.910203080780285]]}}]},\n",
    "                                               crs={'init': 'epsg:4326'})"
   ]
  },
  {
   "cell_type": "code",
   "execution_count": 42,
   "metadata": {},
   "outputs": [
    {
     "name": "stderr",
     "output_type": "stream",
     "text": [
      "/srv/conda/envs/notebook/lib/python3.7/site-packages/pyproj/crs.py:77: FutureWarning: '+init=<authority>:<code>' syntax is deprecated. '<authority>:<code>' is the preferred initialization method.\n",
      "  return _prepare_from_string(\" \".join(pjargs))\n"
     ]
    }
   ],
   "source": [
    "# convert to local UTM zone\n",
    "s_seine_utm = s_seine.to_crs(epsg=2154)"
   ]
  },
  {
   "cell_type": "code",
   "execution_count": 43,
   "metadata": {},
   "outputs": [
    {
     "data": {
      "text/plain": [
       "<matplotlib.axes._subplots.AxesSubplot at 0x7f2ce5a368d0>"
      ]
     },
     "execution_count": 43,
     "metadata": {},
     "output_type": "execute_result"
    },
    {
     "data": {
      "image/png": "[encoded data removed]",
      "text/plain": [
       "<Figure size 1440x720 with 1 Axes>"
      ]
     },
     "metadata": {
      "needs_background": "light"
     },
     "output_type": "display_data"
    }
   ],
   "source": [
    "import matplotlib.pyplot as plt\n",
    "fig, ax = plt.subplots(figsize=(20, 10))\n",
    "districts.plot(ax=ax, color='grey', alpha=0.4, edgecolor='k')\n",
    "s_seine_utm.plot(ax=ax)"
   ]
  },
  {
   "cell_type": "code",
   "execution_count": 45,
   "metadata": {},
   "outputs": [],
   "source": [
    "# access the single geometry object\n",
    "seine = s_seine_utm.geometry.squeeze()"
   ]
  },
  {
   "cell_type": "code",
   "execution_count": 46,
   "metadata": {
    "clear_cell": true
   },
   "outputs": [],
   "source": [
    "# %load _solved/solutions/03-spatial-relationships-operations11.py"
   ]
  },
  {
   "cell_type": "code",
   "execution_count": 47,
   "metadata": {
    "clear_cell": true
   },
   "outputs": [],
   "source": [
    "# %load _solved/solutions/03-spatial-relationships-operations12.py"
   ]
  },
  {
   "cell_type": "code",
   "execution_count": 48,
   "metadata": {
    "clear_cell": true
   },
   "outputs": [],
   "source": [
    "# %load _solved/solutions/03-spatial-relationships-operations13.py"
   ]
  },
  {
   "cell_type": "code",
   "execution_count": 49,
   "metadata": {
    "clear_cell": true
   },
   "outputs": [],
   "source": [
    "# %load _solved/solutions/03-spatial-relationships-operations14.py"
   ]
  },
  {
   "cell_type": "code",
   "execution_count": null,
   "metadata": {},
   "outputs": [],
   "source": []
  }
 ],
 "metadata": {
  "kernelspec": {
   "display_name": "Python 3",
   "language": "python",
   "name": "python3"
  },
  "language_info": {
   "codemirror_mode": {
    "name": "ipython",
    "version": 3
   },
   "file_extension": ".py",
   "mimetype": "text/x-python",
   "name": "python",
   "nbconvert_exporter": "python",
   "pygments_lexer": "ipython3",
   "version": "3.7.6"
  }
 },
 "nbformat": 4,
 "nbformat_minor": 4
}
